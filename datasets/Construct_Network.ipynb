{
 "cells": [
  {
   "cell_type": "code",
   "execution_count": 1,
   "metadata": {},
   "outputs": [],
   "source": [
    "from Loader_v2 import GraphLoader\n",
    "import networkx as nx"
   ]
  },
  {
   "cell_type": "markdown",
   "metadata": {},
   "source": [
    "# Config"
   ]
  },
  {
   "cell_type": "code",
   "execution_count": 2,
   "metadata": {},
   "outputs": [],
   "source": [
    "config = {\n",
    "    \"link_data\": \"actors_network_new.json\",  # path to the dataset\n",
    "    \"id_actor_data\": \"actor_id_dict.json\",  # path to the dataset\n",
    "}"
   ]
  },
  {
   "cell_type": "code",
   "execution_count": 3,
   "metadata": {},
   "outputs": [],
   "source": [
    "path = config[\"link_data\"]\n",
    "id_actor_data = config[\"id_actor_data\"]"
   ]
  },
  {
   "cell_type": "markdown",
   "metadata": {},
   "source": [
    "# Load Graphs"
   ]
  },
  {
   "cell_type": "markdown",
   "metadata": {},
   "source": [
    "## Graph Loader\n",
    "Declare a ```GraphLoader``` and use ```get_graph()``` to get the graph.\n",
    "\n"
   ]
  },
  {
   "cell_type": "code",
   "execution_count": 11,
   "metadata": {},
   "outputs": [],
   "source": [
    "loader = GraphLoader(path, id_actor_data)\n",
    "graph = loader.get_graph()\n",
    "id_actor_dict = loader.get_id_actor_dict()"
   ]
  },
  {
   "cell_type": "code",
   "execution_count": 14,
   "metadata": {},
   "outputs": [
    {
     "data": {
      "text/plain": [
       "2534"
      ]
     },
     "execution_count": 14,
     "metadata": {},
     "output_type": "execute_result"
    }
   ],
   "source": [
    "len(list(graph.edges))"
   ]
  },
  {
   "cell_type": "code",
   "execution_count": 14,
   "metadata": {},
   "outputs": [
    {
     "name": "stdout",
     "output_type": "stream",
     "text": [
      "# of nodes: 1942\n",
      "# of edges: 2534\n",
      "------------------------------------\n",
      "# of success(1): 1313\n",
      "# of non-success(0): 570\n",
      "# of failure(-1): 651\n",
      "------------------------------------\n",
      "Attributes of node: ['name', 'gender', 'popularity', 'Date of Birth', 'Birth City', 'Birth Country', 'Height (Inches)', 'Ethnicity', 'NetWorth', 'Age', 'x']\n"
     ]
    }
   ],
   "source": [
    "print(f\"# of nodes: {graph.number_of_nodes()}\")\n",
    "print(f\"# of edges: {graph.number_of_edges()}\")\n",
    "edge_dict = nx.get_edge_attributes(graph, 'category')\n",
    "print(\"------------------------------------\")\n",
    "\n",
    "print(f\"# of success(1): {len({k:v for k, v in edge_dict.items() if v == 1})}\")\n",
    "print(f\"# of non-success(0): {len({k:v for k, v in edge_dict.items() if v == 0})}\")\n",
    "print(f\"# of failure(-1): {len({k:v for k, v in edge_dict.items() if v == -1})}\")\n",
    "\n",
    "print(\"------------------------------------\")\n",
    "attr_list = [\"name\", \"gender\", \"popularity\", \"Date of Birth\", \"Birth City\", \"Birth Country\", \"Height (Inches)\", \"Ethnicity\", \"NetWorth\", \"Age\", 'x']\n",
    "print(f\"Attributes of node: {attr_list}\")\n",
    "# gender = nx.get_node_attributes(graph, attr_list[1])\n",
    "# print(f\"Gender: {set(gender.values())}\") # gender 有四種？\n"
   ]
  },
  {
   "cell_type": "code",
   "execution_count": 8,
   "metadata": {},
   "outputs": [
    {
     "data": {
      "text/plain": [
       "{'name': 'AamirKhan',\n",
       " 'gender': 2.0,\n",
       " 'popularity': '11.253',\n",
       " 'Date of Birth': '0',\n",
       " 'Birth City': 0,\n",
       " 'Birth Country': 0,\n",
       " 'Height (Inches)': 0.0,\n",
       " 'Ethnicity': 0,\n",
       " 'NetWorth': 0.0,\n",
       " 'Age': 0.0,\n",
       " 'x': [2.0, 11.253],\n",
       " 'x_stat': [2.0,\n",
       "  11.253,\n",
       "  0.0009264376366058478,\n",
       "  2.655661604975647e-06,\n",
       "  0.001648634724368882]}"
      ]
     },
     "execution_count": 8,
     "metadata": {},
     "output_type": "execute_result"
    }
   ],
   "source": [
    "# node attributes\n",
    "graph.nodes[0]"
   ]
  },
  {
   "cell_type": "markdown",
   "metadata": {},
   "source": [
    "# Transform into PyG data"
   ]
  },
  {
   "cell_type": "code",
   "execution_count": 9,
   "metadata": {},
   "outputs": [],
   "source": [
    "import torch\n",
    "from torch_geometric.utils.convert import to_networkx, from_networkx"
   ]
  },
  {
   "cell_type": "code",
   "execution_count": 10,
   "metadata": {},
   "outputs": [
    {
     "data": {
      "text/plain": [
       "Data(x=[1942, 2], edge_index=[2, 5068], name=[1942], gender=[1942], popularity=[1942], Date of Birth=[1942], Birth City=[1942], Birth Country=[1942], Height (Inches)=[1942], Ethnicity=[1942], NetWorth=[1942], Age=[1942], x_stat=[1942, 5], category=[5068])"
      ]
     },
     "execution_count": 10,
     "metadata": {},
     "output_type": "execute_result"
    }
   ],
   "source": [
    "# Convert the graph into PyTorch geometric\n",
    "from torch_geometric.data import Data\n",
    "pyg_graph: Data = from_networkx(graph)\n",
    "pyg_graph"
   ]
  },
  {
   "cell_type": "code",
   "execution_count": 14,
   "metadata": {},
   "outputs": [
    {
     "name": "stdout",
     "output_type": "stream",
     "text": [
      "tensor([[ 2.0000, 11.2530],\n",
      "        [ 2.0000,  4.9780],\n",
      "        [ 1.0000,  2.0030],\n",
      "        ...,\n",
      "        [ 2.0000, 18.0720],\n",
      "        [ 1.0000, 10.1630],\n",
      "        [ 2.0000, 12.1320]])\n",
      "tensor([[2.0000e+00, 1.1253e+01, 9.2644e-04, 2.6557e-06, 1.6486e-03],\n",
      "        [2.0000e+00, 4.9780e+00, 6.2816e-04, 1.5934e-06, 1.3739e-03],\n",
      "        [1.0000e+00, 2.0030e+00, 3.3613e-04, 0.0000e+00, 1.0304e-03],\n",
      "        ...,\n",
      "        [2.0000e+00, 1.8072e+01, 5.1493e-04, 0.0000e+00, 5.1520e-04],\n",
      "        [1.0000e+00, 1.0163e+01, 5.1493e-04, 0.0000e+00, 5.1520e-04],\n",
      "        [2.0000e+00, 1.2132e+01, 2.4927e-04, 0.0000e+00, 1.1634e-01]])\n"
     ]
    }
   ],
   "source": [
    "print(pyg_graph.x)\n",
    "print(pyg_graph.x_stat)"
   ]
  },
  {
   "cell_type": "code",
   "execution_count": 15,
   "metadata": {},
   "outputs": [],
   "source": [
    "torch.save(pyg_graph, 'movie.pt')"
   ]
  }
 ],
 "metadata": {
  "kernelspec": {
   "display_name": "network_env310",
   "language": "python",
   "name": "python3"
  },
  "language_info": {
   "codemirror_mode": {
    "name": "ipython",
    "version": 3
   },
   "file_extension": ".py",
   "mimetype": "text/x-python",
   "name": "python",
   "nbconvert_exporter": "python",
   "pygments_lexer": "ipython3",
   "version": "3.10.14"
  }
 },
 "nbformat": 4,
 "nbformat_minor": 2
}

{
 "cells": [
  {
   "cell_type": "markdown",
   "metadata": {},
   "source": [
    "# Setup"
   ]
  },
  {
   "cell_type": "code",
   "execution_count": 207,
   "metadata": {},
   "outputs": [],
   "source": [
    "import torch\n",
    "import random\n",
    "import numpy as np\n",
    "import os"
   ]
  },
  {
   "cell_type": "code",
   "execution_count": 208,
   "metadata": {},
   "outputs": [],
   "source": [
    "import warnings\n",
    "warnings.filterwarnings(\"ignore\")"
   ]
  },
  {
   "cell_type": "markdown",
   "metadata": {},
   "source": [
    "# Load .pt Data"
   ]
  },
  {
   "cell_type": "code",
   "execution_count": 209,
   "metadata": {},
   "outputs": [],
   "source": [
    "#TODO:change the root path\n",
    "folder = '../SEAL_OGB/dataset/movie_actor'\n",
    "filename = 'movie.pt'\n",
    "data = torch.load(os.path.join(folder, filename))"
   ]
  },
  {
   "cell_type": "code",
   "execution_count": 213,
   "metadata": {},
   "outputs": [
    {
     "name": "stdout",
     "output_type": "stream",
     "text": [
      "Data(x=[1942, 2], edge_index=[2, 5068], name=[1942], gender=[1942], popularity=[1942], Date of Birth=[1942], Birth City=[1942], Birth Country=[1942], Height (Inches)=[1942], Ethnicity=[1942], NetWorth=[1942], Age=[1942], x_stat=[1942, 5], category=[5068]) \n",
      "\n",
      "Features:\n",
      " tensor([[ 2.0000, 11.2530],\n",
      "        [ 2.0000,  4.9780],\n",
      "        [ 1.0000,  2.0030],\n",
      "        ...,\n",
      "        [ 2.0000, 18.0720],\n",
      "        [ 1.0000, 10.1630],\n",
      "        [ 2.0000, 12.1320]]) \n",
      "\n",
      "Features & Graph Stats:\n",
      " tensor([[2.0000e+00, 1.1253e+01, 9.2644e-04, 2.6557e-06, 1.6486e-03],\n",
      "        [2.0000e+00, 4.9780e+00, 6.2816e-04, 1.5934e-06, 1.3739e-03],\n",
      "        [1.0000e+00, 2.0030e+00, 3.3613e-04, 0.0000e+00, 1.0304e-03],\n",
      "        ...,\n",
      "        [2.0000e+00, 1.8072e+01, 5.1493e-04, 0.0000e+00, 5.1520e-04],\n",
      "        [1.0000e+00, 1.0163e+01, 5.1493e-04, 0.0000e+00, 5.1520e-04],\n",
      "        [2.0000e+00, 1.2132e+01, 2.4927e-04, 0.0000e+00, 1.1634e-01]]) \n",
      "\n",
      "Tensor to Numpy:\n",
      " [[ 2.    11.253]\n",
      " [ 2.     4.978]\n",
      " [ 1.     2.003]\n",
      " ...\n",
      " [ 2.    18.072]\n",
      " [ 1.    10.163]\n",
      " [ 2.    12.132]] \n",
      "\n"
     ]
    }
   ],
   "source": [
    "# overview\n",
    "print(data, '\\n')\n",
    "\n",
    "# actors' features (gender and popularity)\n",
    "print(\"Features:\\n\", data.x, '\\n')\n",
    "\n",
    "# actors' features + graph stats (PageRank, Betweenness, Closeness)\n",
    "print(\"Features & Graph Stats:\\n\", data.x_stat, '\\n')\n",
    "\n",
    "# convert tensor to numpy array\n",
    "print(\"Tensor to Numpy:\\n\", data.x.numpy(), '\\n')"
   ]
  },
  {
   "cell_type": "markdown",
   "metadata": {},
   "source": [
    "# Train Test Split"
   ]
  },
  {
   "cell_type": "code",
   "execution_count": 214,
   "metadata": {},
   "outputs": [
    {
     "name": "stdout",
     "output_type": "stream",
     "text": [
      "# of nodes: 1942\n",
      "# of edges: 2534\n",
      "------------------------------------\n",
      "# of success(1): 1313\n",
      "# of non-success(0): 570\n",
      "# of failure(-1): 651\n"
     ]
    }
   ],
   "source": [
    "### edge info\n",
    "print(f\"# of nodes: {data.num_nodes}\")\n",
    "print(f\"# of edges: {data.num_edges // 2}\")\n",
    "print(\"------------------------------------\")\n",
    "\n",
    "print(f\"# of success(1): {data.edge_index[0][data.category == 1].size(0) // 2}\")\n",
    "print(f\"# of non-success(0): {data.edge_index[0][data.category == 0].size(0) // 2}\")\n",
    "print(f\"# of failure(-1): {data.edge_index[0][data.category == -1].size(0) // 2}\")\n"
   ]
  },
  {
   "cell_type": "code",
   "execution_count": 215,
   "metadata": {},
   "outputs": [],
   "source": [
    "from torch_geometric.utils import (negative_sampling, add_self_loops,\n",
    "                                   train_test_split_edges)"
   ]
  },
  {
   "cell_type": "code",
   "execution_count": 216,
   "metadata": {},
   "outputs": [],
   "source": [
    "def do_custom_edge_split(data, custom_split=True, val_ratio=0.1, test_ratio=0.1, is_undirected=True):\n",
    "    random.seed(234)\n",
    "    torch.manual_seed(234)\n",
    "    # remove duplicate links (undirected)\n",
    "    if is_undirected:\n",
    "        mask = data.edge_index[0] < data.edge_index[1]\n",
    "        data.category = data.category[mask]\n",
    "        data.edge_index = torch.stack(\n",
    "                [data.edge_index[0][mask], \n",
    "                data.edge_index[1][mask]],\n",
    "                dim=0\n",
    "            )\n",
    "\n",
    "    if not custom_split:\n",
    "        data = train_test_split_edges(data, val_ratio, test_ratio)\n",
    "        edge_index, _ = add_self_loops(data.train_pos_edge_index)\n",
    "        data.train_neg_edge_index = negative_sampling(\n",
    "            edge_index, num_nodes=data.num_nodes,\n",
    "            num_neg_samples=data.train_pos_edge_index.size(1))\n",
    "    else:\n",
    "        # make failure links(-1) as negative edges\n",
    "        failure_edge_mask = (data.category == -1)\n",
    "        data.train_neg_edge_index = torch.stack(\n",
    "            [data.edge_index[0][failure_edge_mask], \n",
    "             data.edge_index[1][failure_edge_mask]], \n",
    "            dim=0\n",
    "        )\n",
    "        # remove unsuccessful edges from edge_index (-1, 0)\n",
    "        success_edge_mask = (data.category == 1)\n",
    "        data.edge_index = torch.stack(\n",
    "            [data.edge_index[0][success_edge_mask], \n",
    "             data.edge_index[1][success_edge_mask]], \n",
    "            dim=0\n",
    "        )\n",
    "        data.category = data.category[success_edge_mask]\n",
    "        data = train_test_split_edges(data, val_ratio, test_ratio)\n",
    "\n",
    "        mask = data.train_pos_edge_index[0] < data.train_pos_edge_index[1]\n",
    "        data.train_pos_edge_index = torch.stack(\n",
    "            [data.train_pos_edge_index[0][mask], \n",
    "            data.train_pos_edge_index[1][mask]],\n",
    "            dim=0\n",
    "        )\n",
    "\n",
    "        # conplement to sufficient data count\n",
    "        if data.train_neg_edge_index.size(1) < data.train_pos_edge_index.size(1):\n",
    "            num_neg_sample = data.train_pos_edge_index.size(1) - data.train_neg_edge_index.size(1)\n",
    "            neg_index = negative_sampling(\n",
    "                data.train_neg_adj_mask.nonzero().t(), \n",
    "                num_nodes=data.num_nodes,\n",
    "                num_neg_samples=num_neg_sample\n",
    "            )\n",
    "            data.train_neg_edge_index = torch.cat(\n",
    "                [data.train_neg_edge_index,\n",
    "                 neg_index],\n",
    "                dim=1\n",
    "            )\n",
    "        del data.category\n",
    "\n",
    "    split_edge = {'train': {}, 'valid': {}, 'test': {}}\n",
    "    split_edge['train']['edge'] = data.train_pos_edge_index.t()\n",
    "    split_edge['train']['edge_neg'] = data.train_neg_edge_index.t()\n",
    "    split_edge['valid']['edge'] = data.val_pos_edge_index.t()\n",
    "    split_edge['valid']['edge_neg'] = data.val_neg_edge_index.t()\n",
    "    split_edge['test']['edge'] = data.test_pos_edge_index.t()\n",
    "    split_edge['test']['edge_neg'] = data.test_neg_edge_index.t()\n",
    "    return split_edge"
   ]
  },
  {
   "cell_type": "code",
   "execution_count": 217,
   "metadata": {},
   "outputs": [],
   "source": [
    "split_edge = do_custom_edge_split(data)"
   ]
  },
  {
   "cell_type": "code",
   "execution_count": 218,
   "metadata": {},
   "outputs": [
    {
     "name": "stdout",
     "output_type": "stream",
     "text": [
      "train pos edge: 1051\n",
      "train neg edge: 1051\n",
      "-------------------------\n",
      "valid pos edge: 131\n",
      "valid neg edge: 131\n",
      "-------------------------\n",
      "test pos edge: 131\n",
      "test neg edge: 131\n"
     ]
    }
   ],
   "source": [
    "print(\"train pos edge:\", data.train_pos_edge_index.size(1))\n",
    "print(\"train neg edge:\", data.train_neg_edge_index.size(1))\n",
    "print('-------------------------')\n",
    "print(\"valid pos edge:\", data.val_pos_edge_index.size(1))\n",
    "print(\"valid neg edge:\", data.val_neg_edge_index.size(1))\n",
    "print('-------------------------')\n",
    "print(\"test pos edge:\", data.test_pos_edge_index.size(1))\n",
    "print(\"test neg edge:\", data.test_neg_edge_index.size(1))"
   ]
  },
  {
   "cell_type": "code",
   "execution_count": 219,
   "metadata": {},
   "outputs": [
    {
     "name": "stdout",
     "output_type": "stream",
     "text": [
      "{'edge': tensor([[   0,    2],\n",
      "        [   0,   16],\n",
      "        [   1,   28],\n",
      "        ...,\n",
      "        [1899, 1900],\n",
      "        [1933, 1934],\n",
      "        [1937, 1938]]), 'edge_neg': tensor([[   0,    1],\n",
      "        [   5,   14],\n",
      "        [  14,   19],\n",
      "        ...,\n",
      "        [1015,  498],\n",
      "        [1883, 1747],\n",
      "        [1494,  656]])}\n"
     ]
    },
    {
     "data": {
      "text/plain": [
       "array([ 2.   , 14.531,  2.   , 14.531], dtype=float32)"
      ]
     },
     "execution_count": 219,
     "metadata": {},
     "output_type": "execute_result"
    }
   ],
   "source": [
    "# node num pairs of edges\n",
    "print(split_edge['train'])\n",
    "\n",
    "# you can access features of the specified node like this\n",
    "node_num1 = 1\n",
    "node_num1 = 28\n",
    "x1 = data.x[50, :].numpy()\n",
    "x2 = data.x[50, :].numpy()\n",
    "x = np.concatenate([x1, x2])\n",
    "x"
   ]
  },
  {
   "cell_type": "code",
   "execution_count": 220,
   "metadata": {},
   "outputs": [],
   "source": [
    "# del attributes\n",
    "del data['name']\n",
    "del data['gender']\n",
    "del data['popularity']\n",
    "del data['Date of Birth']\n",
    "del data['Birth City']\n",
    "del data['Birth Country']\n",
    "del data['Height (Inches)']\n",
    "del data['Ethnicity']\n",
    "del data['NetWorth']\n",
    "del data['Age']\n"
   ]
  },
  {
   "cell_type": "markdown",
   "metadata": {},
   "source": [
    "# Save File"
   ]
  },
  {
   "cell_type": "code",
   "execution_count": 165,
   "metadata": {},
   "outputs": [],
   "source": [
    "to_path = '../SEAL_OGB/dataset/movie_actor'\n",
    "torch.save(data, os.path.join(to_path, 'movie_transformed.pt'))"
   ]
  },
  {
   "cell_type": "code",
   "execution_count": null,
   "metadata": {},
   "outputs": [],
   "source": []
  }
 ],
 "metadata": {
  "kernelspec": {
   "display_name": "network_env310",
   "language": "python",
   "name": "python3"
  },
  "language_info": {
   "codemirror_mode": {
    "name": "ipython",
    "version": 3
   },
   "file_extension": ".py",
   "mimetype": "text/x-python",
   "name": "python",
   "nbconvert_exporter": "python",
   "pygments_lexer": "ipython3",
   "version": "3.10.14"
  }
 },
 "nbformat": 4,
 "nbformat_minor": 2
}
